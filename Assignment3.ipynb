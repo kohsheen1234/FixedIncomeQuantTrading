{
 "cells": [
  {
   "cell_type": "code",
   "execution_count": 27,
   "metadata": {},
   "outputs": [],
   "source": [
    "import numpy as np\n",
    "from scipy.integrate import odeint\n",
    "\n",
    "# Define the parameters\n",
    "r0 = 0.04\n",
    "mu = 0.0025\n",
    "kappa = 0.05\n",
    "gamma = 0\n",
    "sigma = 0.01\n",
    "\n",
    "# Define the function for the system of Riccati equations\n",
    "def riccati_eq(y, t, mu, kappa, gamma, sigma):\n",
    "    A = y[0]\n",
    "    B = y[1]\n",
    "    A_prime = mu*B - 0.5*sigma*B**2\n",
    "    B_prime = kappa*B - 0.5*gamma*B**2 - 1\n",
    "    return [A_prime, B_prime]\n",
    "\n",
    "# Define the boundary conditions at maturity\n",
    "A30 = 0\n",
    "B30 = 0\n",
    "\n",
    "# Set the time range\n",
    "t_span = np.linspace(0, 30, 301)\n",
    "\n",
    "# Solve the system of Riccati equations\n",
    "sol = odeint(riccati_eq, [A30, B30], t_span[::-1], args=(mu, kappa, gamma, sigma))\n",
    "A = sol[:, 0][::-1]\n",
    "B = sol[:, 1][::-1]\n",
    "\n",
    "# Calculate the bond price\n",
    "r = r0\n",
    "V = np.exp(A - r*B)\n"
   ]
  },
  {
   "cell_type": "code",
   "execution_count": 28,
   "metadata": {},
   "outputs": [
    {
     "data": {
      "text/plain": [
       "16.131541272981423"
      ]
     },
     "execution_count": 28,
     "metadata": {},
     "output_type": "execute_result"
    }
   ],
   "source": [
    "A[0]"
   ]
  },
  {
   "cell_type": "code",
   "execution_count": 29,
   "metadata": {},
   "outputs": [
    {
     "data": {
      "text/plain": [
       "15.537396796190196"
      ]
     },
     "execution_count": 29,
     "metadata": {},
     "output_type": "execute_result"
    }
   ],
   "source": [
    "B[0]"
   ]
  },
  {
   "cell_type": "code",
   "execution_count": 30,
   "metadata": {},
   "outputs": [
    {
     "data": {
      "text/plain": [
       "1.0"
      ]
     },
     "execution_count": 30,
     "metadata": {},
     "output_type": "execute_result"
    }
   ],
   "source": [
    "V[-1]"
   ]
  },
  {
   "cell_type": "code",
   "execution_count": 31,
   "metadata": {},
   "outputs": [
    {
     "data": {
      "text/plain": [
       "5444113.009795419"
      ]
     },
     "execution_count": 31,
     "metadata": {},
     "output_type": "execute_result"
    }
   ],
   "source": [
    "V[0]"
   ]
  }
 ],
 "metadata": {
  "kernelspec": {
   "display_name": "Python 3.9.6 64-bit",
   "language": "python",
   "name": "python3"
  },
  "language_info": {
   "codemirror_mode": {
    "name": "ipython",
    "version": 3
   },
   "file_extension": ".py",
   "mimetype": "text/x-python",
   "name": "python",
   "nbconvert_exporter": "python",
   "pygments_lexer": "ipython3",
   "version": "3.9.6"
  },
  "orig_nbformat": 4,
  "vscode": {
   "interpreter": {
    "hash": "31f2aee4e71d21fbe5cf8b01ff0e069b9275f58929596ceb00d14d90e3e16cd6"
   }
  }
 },
 "nbformat": 4,
 "nbformat_minor": 2
}
